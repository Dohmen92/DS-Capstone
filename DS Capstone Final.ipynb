{
 "cells": [
  {
   "cell_type": "markdown",
   "metadata": {},
   "source": [
    "## Introduction\n",
    "\n",
    "In this project we will be exploring neighborhoods in the city of Boise, Idaho. Boise is considered one of the fastest growing cities in the United States and with so many individuals moving from other states, many will be wanting to find neighborhoods that closely resemble their previous homes. In this project we will take a look at different aspects of neighborhoods to provide prospectant movers with neighborhoods that would best fit their needs. Within neighborhoods we will analyze most common venues, it will be up to the movers to determine what factors are most important to them. "
   ]
  },
  {
   "cell_type": "markdown",
   "metadata": {},
   "source": [
    "## Data\n",
    "\n",
    "For this project we need the following data:\n",
    "\n",
    "- Boise, Idaho data that contains list Boroughs, Neighborhoods along with their latitude and longitude.\n",
    "- Venues in each neighborhood of Boise, Idaho.\n",
    "- GeoSpace data from FourSquare API"
   ]
  },
  {
   "cell_type": "code",
   "execution_count": null,
   "metadata": {},
   "outputs": [],
   "source": []
  }
 ],
 "metadata": {
  "kernelspec": {
   "display_name": "Python",
   "language": "python",
   "name": "conda-env-python-py"
  },
  "language_info": {
   "codemirror_mode": {
    "name": "ipython",
    "version": 3
   },
   "file_extension": ".py",
   "mimetype": "text/x-python",
   "name": "python",
   "nbconvert_exporter": "python",
   "pygments_lexer": "ipython3",
   "version": "3.6.11"
  }
 },
 "nbformat": 4,
 "nbformat_minor": 4
}
